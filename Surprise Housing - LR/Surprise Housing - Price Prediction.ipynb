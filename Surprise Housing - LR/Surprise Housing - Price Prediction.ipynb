{
 "cells": [
  {
   "cell_type": "markdown",
   "metadata": {},
   "source": [
    "# <center>Surprise Housing - Property Price Prediction</center>"
   ]
  },
  {
   "cell_type": "markdown",
   "metadata": {},
   "source": [
    "## Problem Statement\n",
    "A US-based housing company named Surprise Housing has decided to enter the Australian market. The company uses data analytics to purchase houses at a price below their actual values and flip them at a higher price.<BR>\n",
    "The company is looking at prospective properties to buy to enter the market.<BR><BR>\n",
    "\n",
    "## Goal\n",
    "<UL>\n",
    "    <LI>Build Regression model using regularisation to predict price of property  </LI>\n",
    "    <LI>Identify variables which are significant in price prediction</LI>\n",
    "    <LI>How accurately we can predict the price based on above identified independent variable </LI>\n",
    "</UL>"
   ]
  },
  {
   "cell_type": "markdown",
   "metadata": {},
   "source": [
    "### Load Libraries & Data"
   ]
  },
  {
   "cell_type": "code",
   "execution_count": null,
   "metadata": {
    "collapsed": true
   },
   "outputs": [],
   "source": [
    "import numpy as np\n",
    "import pandas as pd\n",
    "import seaborn as sns\n",
    "import matplotlib.pyplot as plt\n",
    "%matplotlib inline"
   ]
  },
  {
   "cell_type": "code",
   "execution_count": null,
   "metadata": {
    "collapsed": true
   },
   "outputs": [],
   "source": [
    "# Suppressing Warnings\n",
    "import warnings\n",
    "warnings.filterwarnings('ignore')"
   ]
  },
  {
   "cell_type": "code",
   "execution_count": null,
   "metadata": {},
   "outputs": [],
   "source": [
    "pd.set_option(\"display.max_column\", 100)"
   ]
  },
  {
   "cell_type": "code",
   "execution_count": null,
   "metadata": {},
   "outputs": [],
   "source": [
    "housingDF =pd.read_csv(\"train.csv\")\n",
    "housingDF.head()"
   ]
  },
  {
   "cell_type": "code",
   "execution_count": null,
   "metadata": {},
   "outputs": [],
   "source": [
    "#housingDF.set_index('Id', inplace=True)\n",
    "housingDF.shape"
   ]
  },
  {
   "cell_type": "markdown",
   "metadata": {},
   "source": [
    "## Data Cleaning"
   ]
  },
  {
   "cell_type": "code",
   "execution_count": null,
   "metadata": {},
   "outputs": [],
   "source": [
    "housingDF.describe(percentiles=[0.05,0.25,0.5,0.75,0.95, 0.99])"
   ]
  },
  {
   "cell_type": "markdown",
   "metadata": {},
   "source": [
    "There are few outlieres in dataset."
   ]
  },
  {
   "cell_type": "code",
   "execution_count": null,
   "metadata": {},
   "outputs": [],
   "source": [
    "housingDF.drop(columns=housingDF.describe().columns).describe()"
   ]
  },
  {
   "cell_type": "markdown",
   "metadata": {},
   "source": [
    "We have total **1460** observation in data set.<BR>\n",
    "For **Utilities** column which have 2 different categorical values, **1459** observation have unique value **AllPub** out of **1460**, so this column will not help in prediction, hence will drop this column.<BR>\n",
    "Similarly there are few other columns which have very les variance (or 95 To 100% data contain same categorical value) like **Street, Condition2, RoofMatl, Heating, etc. **, will analys these columns seprtaly after data cleanup."
   ]
  },
  {
   "cell_type": "code",
   "execution_count": null,
   "metadata": {
    "collapsed": true
   },
   "outputs": [],
   "source": [
    "housingDF.drop(labels=['Utilities','Id'], inplace=True, axis=1)"
   ]
  },
  {
   "cell_type": "code",
   "execution_count": null,
   "metadata": {},
   "outputs": [],
   "source": [
    "housingDF.info()"
   ]
  },
  {
   "cell_type": "code",
   "execution_count": null,
   "metadata": {},
   "outputs": [],
   "source": [
    "missingData = housingDF.isnull().sum() / housingDF.index.size * 100\n",
    "missingData[missingData > 0]"
   ]
  },
  {
   "cell_type": "code",
   "execution_count": null,
   "metadata": {},
   "outputs": [],
   "source": [
    "#Will drop column with more than 40% missing data.\n",
    "housingDF.drop(labels=['Alley','FireplaceQu','PoolQC','Fence','MiscFeature'], inplace=True, axis=1)"
   ]
  },
  {
   "cell_type": "markdown",
   "metadata": {},
   "source": [
    "Aprt from **LotFrontage** column, other remaning columns have 0.5 - 6 % missing data, will drop missingdata rows instead of imputing some data and introduce baised values. "
   ]
  },
  {
   "cell_type": "code",
   "execution_count": null,
   "metadata": {
    "collapsed": true
   },
   "outputs": [],
   "source": [
    "housingDF.dropna(subset=missingData[(missingData > 0) & (missingData < 6)].index, inplace=True)"
   ]
  },
  {
   "cell_type": "code",
   "execution_count": null,
   "metadata": {},
   "outputs": [],
   "source": [
    "housingDF.head()"
   ]
  },
  {
   "cell_type": "code",
   "execution_count": null,
   "metadata": {},
   "outputs": [],
   "source": [
    "#Drop rows \n",
    "missingData = housingDF.isnull().sum() / housingDF.index.size * 100\n",
    "print(missingData[missingData > 0])\n",
    "housingDF[missingData[missingData > 0].index].describe(percentiles=[0.5,0.9,0.99])"
   ]
  },
  {
   "cell_type": "code",
   "execution_count": null,
   "metadata": {},
   "outputs": [],
   "source": [
    "plt.scatter(housingDF['SalePrice'], housingDF['LotFrontage'])"
   ]
  },
  {
   "cell_type": "markdown",
   "metadata": {},
   "source": [
    "We cannot drop **LotFrontage** column, as it can be usefull in model prediction.<BR>\n",
    "Also imputing **18%** data is not good idea, so will drop missing data rows for this columm also. "
   ]
  },
  {
   "cell_type": "code",
   "execution_count": null,
   "metadata": {
    "collapsed": true
   },
   "outputs": [],
   "source": [
    "housingDF.dropna(subset=['LotFrontage'], inplace=True)"
   ]
  },
  {
   "cell_type": "code",
   "execution_count": null,
   "metadata": {},
   "outputs": [],
   "source": [
    "missingData = housingDF.isnull().sum() / housingDF.index.size * 100\n",
    "missingData[missingData > 0]"
   ]
  },
  {
   "cell_type": "markdown",
   "metadata": {},
   "source": [
    "**No Missing Data in data set**"
   ]
  },
  {
   "cell_type": "code",
   "execution_count": null,
   "metadata": {},
   "outputs": [],
   "source": [
    "#Check for duplicate rows\n",
    "housingDF[housingDF.duplicated()]"
   ]
  },
  {
   "cell_type": "code",
   "execution_count": null,
   "metadata": {},
   "outputs": [],
   "source": [
    "housingDF.shape"
   ]
  },
  {
   "cell_type": "markdown",
   "metadata": {},
   "source": [
    "From total 1460 observation we left with 1094 observations, approx 26% data removed."
   ]
  },
  {
   "cell_type": "markdown",
   "metadata": {},
   "source": [
    "## Data Prepration"
   ]
  },
  {
   "cell_type": "code",
   "execution_count": null,
   "metadata": {},
   "outputs": [],
   "source": [
    "#Print Missing value count and Percent of data missing\n",
    "#Create data frame which have rows for each category of that column.\n",
    "#Calculate each value count for each category and Mean Sale Price for that Category.\n",
    "def GetValueCount(colName):\n",
    "    tempDF = housingDF[[colName,'SalePrice']].copy()\n",
    "    print(\"****** \" + colName + \" *****\")\n",
    "\n",
    "    # Including NaN value count\n",
    "    valCountSer = tempDF[colName].value_counts() \n",
    "    df = pd.DataFrame(data=valCountSer)\n",
    "    \n",
    "    #df = df.merge(tempDF.groupby(by=colName, observed=False ).sum()[['Converted']], left_index=True, right_index=True)\n",
    "\n",
    "    df[colName + ' %'] = round(df[colName] / df[colName].sum() * 100, 2)\n",
    "    df = df.merge(tempDF.groupby(by=colName, observed=False).mean()[['SalePrice']], left_index=True, right_index=True)\n",
    "   \n",
    "    print(df.sort_values(by=colName, ascending=False))\n",
    "    print()"
   ]
  },
  {
   "cell_type": "markdown",
   "metadata": {},
   "source": [
    "### Categorical Data"
   ]
  },
  {
   "cell_type": "code",
   "execution_count": null,
   "metadata": {
    "scrolled": true
   },
   "outputs": [],
   "source": [
    "dummy = [GetValueCount(col) for col in housingDF.columns[housingDF.dtypes == 'object']]"
   ]
  },
  {
   "cell_type": "markdown",
   "metadata": {},
   "source": [
    "Will reduce categories using following steps/rules:<BR>\n",
    "- Combining less variance data\n",
    "- Drop that categorical column if single categorical value explaining more than 95 - 100 % data.\n",
    "- Convert categorical column to Ordinal scale.\n",
    "\n",
    "Will apply Dummification Or Binary Encoding on remaning categorical column after data analysis."
   ]
  },
  {
   "cell_type": "markdown",
   "metadata": {},
   "source": [
    "Almost 93% data explained by top 2 MSZoning categories **RL, RM**.<BR>\n",
    "Will create new category and assign this category to remaining 7% rows."
   ]
  },
  {
   "cell_type": "code",
   "execution_count": null,
   "metadata": {},
   "outputs": [],
   "source": [
    "housingDF['MSZoning'] = housingDF['MSZoning'].apply (lambda v : v if v in (['RL', 'RM']) else 'FV_RH_C')\n",
    "GetValueCount('MSZoning')"
   ]
  },
  {
   "cell_type": "code",
   "execution_count": null,
   "metadata": {
    "scrolled": true
   },
   "outputs": [],
   "source": [
    "#99.63% properties have 'Pave' type of road access to street, very less variance explained by this feature, hence will drop this feature  \n",
    "#Same issue with 'Condition2','RoofMatl'\n",
    "housingDF.drop(labels=['Street','Condition2','RoofMatl'], inplace=True, axis=1)"
   ]
  },
  {
   "cell_type": "code",
   "execution_count": null,
   "metadata": {
    "scrolled": true
   },
   "outputs": [],
   "source": [
    "housingDF['LotShape'] = housingDF['LotShape'].apply (lambda v : v if v in (['Reg', 'IR1']) else 'IR2_IR3')\n",
    "GetValueCount('LotShape')"
   ]
  },
  {
   "cell_type": "code",
   "execution_count": null,
   "metadata": {},
   "outputs": [],
   "source": [
    "housingDF['LandContour'] = housingDF['LandContour'].apply (lambda v : v if v in (['Lvl']) else 'Bnk_HLS_Low')\n",
    "GetValueCount('LandContour')"
   ]
  },
  {
   "cell_type": "code",
   "execution_count": null,
   "metadata": {},
   "outputs": [],
   "source": [
    "housingDF['LotConfig'] = housingDF['LotConfig'].apply (lambda v : v if v in (['Inside', 'Corner']) else 'CulDSac_FR2_FR3')\n",
    "GetValueCount('LotConfig')"
   ]
  },
  {
   "cell_type": "code",
   "execution_count": null,
   "metadata": {},
   "outputs": [],
   "source": [
    "housingDF['Condition1'] = housingDF['Condition1'].apply (lambda v : v if v in (['Norm']) else 'Other_Condition1')\n",
    "GetValueCount('Condition1')"
   ]
  },
  {
   "cell_type": "code",
   "execution_count": null,
   "metadata": {},
   "outputs": [],
   "source": [
    "housingDF['BldgType'] = housingDF['BldgType'].apply (lambda v : v if v in (['1Fam']) else 'Other_BldgType')\n",
    "GetValueCount('BldgType')"
   ]
  },
  {
   "cell_type": "code",
   "execution_count": null,
   "metadata": {},
   "outputs": [],
   "source": [
    "housingDF['HouseStyle'] = housingDF['HouseStyle'].apply (lambda v : v if v in (['1Story','2Story','1.5Fin']) else 'Other_HouseStyle')\n",
    "GetValueCount('HouseStyle')"
   ]
  },
  {
   "cell_type": "code",
   "execution_count": null,
   "metadata": {},
   "outputs": [],
   "source": [
    "housingDF['RoofStyle'] = housingDF['RoofStyle'].apply (lambda v : v if v in (['Gable','Hip']) else 'Other_RoofStyle')\n",
    "GetValueCount('RoofStyle')"
   ]
  },
  {
   "cell_type": "code",
   "execution_count": null,
   "metadata": {},
   "outputs": [],
   "source": [
    "housingDF['Foundation'] = housingDF['Foundation'].apply (lambda v : v if v in (['PConc','CBlock','BrkTil']) else 'Stone_Wood')\n",
    "GetValueCount('Foundation')"
   ]
  },
  {
   "cell_type": "code",
   "execution_count": null,
   "metadata": {},
   "outputs": [],
   "source": [
    "housingDF['Heating'] = housingDF['Heating'].apply (lambda v : v if v in (['GasA']) else 'Other_Heating')\n",
    "GetValueCount('Heating')"
   ]
  },
  {
   "cell_type": "code",
   "execution_count": null,
   "metadata": {},
   "outputs": [],
   "source": [
    "housingDF['Electrical'] = housingDF['Electrical'].apply (lambda v : v if v in (['SBrkr']) else 'Other_Electrical')\n",
    "GetValueCount('Electrical')"
   ]
  },
  {
   "cell_type": "code",
   "execution_count": null,
   "metadata": {},
   "outputs": [],
   "source": [
    "housingDF['GarageType'] = housingDF['GarageType'].apply (lambda v : v if v in (['Attchd', 'Detchd']) else 'Other_GarageType')\n",
    "GetValueCount('GarageType')"
   ]
  },
  {
   "cell_type": "code",
   "execution_count": null,
   "metadata": {},
   "outputs": [],
   "source": [
    "housingDF['SaleType'] = housingDF['SaleType'].apply (lambda v : v if v in (['WD', 'New']) else 'Other_SaleType')\n",
    "GetValueCount('SaleType')"
   ]
  },
  {
   "cell_type": "code",
   "execution_count": null,
   "metadata": {},
   "outputs": [],
   "source": [
    "housingDF['SaleCondition'] = housingDF['SaleCondition'].apply (lambda v : v if v in (['Normal', 'Partial']) else 'Other_SaleCondition')\n",
    "GetValueCount('SaleCondition')"
   ]
  },
  {
   "cell_type": "code",
   "execution_count": null,
   "metadata": {},
   "outputs": [],
   "source": [
    "LandSlope = {'Gtl' : 1, 'Mod' : 2, 'Sev' : 3}\n",
    "Qual = {'NA' : 0, 'Po' : 1, 'Fa' : 2, 'TA' : 3, 'Gd' : 4, 'Ex' : 5}\n",
    "BsmtExposure = {'NA' : 0, 'No' : 1, 'Mn' : 2, 'Av' : 3, 'Gd' : 4}\n",
    "BsmtFinType1 = {'NA' : 0, 'Unf' : 1, 'LwQ' : 2, 'Rec' : 3, 'BLQ' : 4, 'ALQ' : 5, 'GLQ' : 6}\n",
    "Functional= {'Sal' : 1, 'Sev' : 2, 'Maj2' : 3, 'Maj1' : 4, 'Mod' : 5, 'Min2' : 6, 'Min1' : 7, 'Typ' : 8}\n",
    "GarageFinish = {'NA' : 0, 'Unf' : 1, 'RFn' : 2, 'Fin' : 3}\n",
    "PavedDrive = {'N' : 0, 'P' : 1, 'Y' : 2}\n",
    "\n",
    "housingDF.replace({'LandSlope' : LandSlope, \n",
    "                   'ExterQual' : Qual,\n",
    "                   'ExterCond' : Qual,\n",
    "                   'BsmtQual' : Qual,\n",
    "                   'BsmtCond' : Qual,\n",
    "                   'BsmtExposure' : BsmtExposure,\n",
    "                   'BsmtFinType1' : BsmtFinType1,\n",
    "                   'BsmtFinType2' : BsmtFinType1,\n",
    "                   'HeatingQC' : Qual,\n",
    "                   'KitchenQual' : Qual,\n",
    "                   'Functional' : Functional,\n",
    "                   'GarageFinish' : GarageFinish,\n",
    "                   'GarageQual' : Qual,\n",
    "                   'GarageCond' : Qual,\n",
    "                   'PavedDrive' : PavedDrive\n",
    "                  }, inplace=True)\n",
    "\n",
    "housingDF = housingDF.astype({'LandSlope' : int, \n",
    "                   'ExterQual' : int,\n",
    "                   'ExterCond' : int,\n",
    "                   'BsmtQual' : int,\n",
    "                   'BsmtCond' : int,\n",
    "                   'BsmtExposure' : int,\n",
    "                   'BsmtFinType1' : int,\n",
    "                   'BsmtFinType2' : int,\n",
    "                   'HeatingQC' : int,\n",
    "                   'KitchenQual' : int,\n",
    "                   'Functional' : int,\n",
    "                   'GarageFinish' : int,\n",
    "                   'GarageQual' : int,\n",
    "                   'GarageCond' : int,\n",
    "                   'PavedDrive' : int\n",
    "                  } )"
   ]
  },
  {
   "cell_type": "code",
   "execution_count": null,
   "metadata": {
    "scrolled": true
   },
   "outputs": [],
   "source": [
    "housingDF.info()"
   ]
  },
  {
   "cell_type": "markdown",
   "metadata": {},
   "source": [
    "### Numerical Data"
   ]
  },
  {
   "cell_type": "code",
   "execution_count": null,
   "metadata": {},
   "outputs": [],
   "source": [
    "housingDF[housingDF.columns[housingDF.dtypes != 'object']].head(10)"
   ]
  },
  {
   "cell_type": "code",
   "execution_count": null,
   "metadata": {
    "collapsed": true
   },
   "outputs": [],
   "source": [
    "import datetime as dt"
   ]
  },
  {
   "cell_type": "code",
   "execution_count": null,
   "metadata": {},
   "outputs": [],
   "source": [
    "#Derived Variable Property Age\n",
    "curDate = dt.date.today()\n",
    "housingDF['PropertyAge'] = housingDF['YearBuilt'].apply(lambda x : curDate.year - x)\n",
    "housingDF['PropertyRemodelAge'] = housingDF['YearRemodAdd'].apply(lambda x : curDate.year - x)\n",
    "housingDF['GarageAge'] = housingDF['GarageYrBlt'].apply(lambda x : int(curDate.year - x))\n",
    "housingDF['PropertySoldSince'] = housingDF.apply(lambda x : (curDate.month - x['MoSold']) / 12 + (curDate.year - x['YrSold']), axis=1)"
   ]
  },
  {
   "cell_type": "code",
   "execution_count": null,
   "metadata": {},
   "outputs": [],
   "source": [
    "housingDF[housingDF['PropertyAge'] < housingDF['PropertyRemodelAge']]"
   ]
  },
  {
   "cell_type": "code",
   "execution_count": null,
   "metadata": {},
   "outputs": [],
   "source": [
    "housingDF[housingDF['PropertyAge'] < housingDF['GarageAge']]"
   ]
  },
  {
   "cell_type": "code",
   "execution_count": null,
   "metadata": {},
   "outputs": [],
   "source": [
    "#Garage Age cannot be greater than property age.\n",
    "#Will assign Property Age to Garage Age for such rows.\n",
    "housingDF['GarageAge'] = housingDF.apply(lambda x : x['GarageAge'] if x['GarageAge'] <= x['PropertyAge'] else x['PropertyAge'] , axis=1)"
   ]
  },
  {
   "cell_type": "code",
   "execution_count": null,
   "metadata": {},
   "outputs": [],
   "source": [
    "housingDF[housingDF['BsmtFinSF1'] + housingDF['BsmtFinSF2'] + housingDF['BsmtUnfSF'] != housingDF['TotalBsmtSF']]"
   ]
  },
  {
   "cell_type": "code",
   "execution_count": null,
   "metadata": {},
   "outputs": [],
   "source": [
    "#We can remove TotalBsmtSF as Other 3 columns can able to explain 'TotalBsmtSF' column\n",
    "#Also drop unwanted Year columns\n",
    "\n",
    "housingDF.drop(labels=['TotalBsmtSF','YearBuilt','YearRemodAdd', 'GarageYrBlt','MoSold', 'YrSold'], axis=1, inplace=True)"
   ]
  },
  {
   "cell_type": "markdown",
   "metadata": {},
   "source": [
    "## Visualising Data"
   ]
  },
  {
   "cell_type": "code",
   "execution_count": null,
   "metadata": {},
   "outputs": [],
   "source": [
    "qutVar = housingDF.columns[housingDF.dtypes != 'object']\n",
    "catVar = housingDF.columns[housingDF.dtypes == 'object']"
   ]
  },
  {
   "cell_type": "markdown",
   "metadata": {},
   "source": [
    "### Quantitative Variable Univariate & Bivariate Analysis"
   ]
  },
  {
   "cell_type": "code",
   "execution_count": null,
   "metadata": {
    "scrolled": false
   },
   "outputs": [],
   "source": [
    "import math\n",
    "a = housingDF.describe(percentiles=[0.01,0.05,0.25,0.5,0.75,0.95,0.99]).loc['99%']\n",
    "\n",
    "temp = housingDF.copy()\n",
    "temp = temp[temp < a]\n",
    "count = 1\n",
    "plt.figure(figsize=(20,50))\n",
    "for n in qutVar:\n",
    "    plt.subplot(math.ceil(qutVar.size / 4), 4, count)\n",
    "    #sns.distplot(housingDF[housingDF[n] < np.percentile(housingDF[n], 99)] [n])\n",
    "    sns.distplot(temp[n])\n",
    "    count += 1\n",
    "\n",
    "plt.show()"
   ]
  },
  {
   "cell_type": "code",
   "execution_count": null,
   "metadata": {},
   "outputs": [],
   "source": [
    "a = housingDF.describe(percentiles=[0.01,0.05,0.25,0.5,0.75,0.95,0.99]).loc['99%']\n",
    "housingDF.describe(percentiles=[0.01,0.05,0.25,0.5,0.75,0.95,0.99]).loc['99%']"
   ]
  },
  {
   "cell_type": "code",
   "execution_count": null,
   "metadata": {},
   "outputs": [],
   "source": [
    "housingDF[housingDF < a].describe(percentiles=[0.01,0.05,0.25,0.5,0.75,0.95,0.99])"
   ]
  },
  {
   "cell_type": "code",
   "execution_count": null,
   "metadata": {},
   "outputs": [],
   "source": [
    "housingDF[housingDF < a]"
   ]
  },
  {
   "cell_type": "code",
   "execution_count": null,
   "metadata": {
    "scrolled": false
   },
   "outputs": [],
   "source": [
    "count = 1\n",
    "plt.figure(figsize=(20,50))\n",
    "for n in qutVar:\n",
    "    plt.subplot(math.ceil(qutVar.size / 4), 4, count)\n",
    "    sns.boxplot(y=housingDF[housingDF[n] < np.percentile(housingDF[n], 99)] [n])\n",
    "    count += 1\n",
    "\n",
    "plt.show()"
   ]
  },
  {
   "cell_type": "code",
   "execution_count": null,
   "metadata": {},
   "outputs": [],
   "source": [
    "#Check correlation with heatmap\n",
    "corr = housingDF.corr()\n",
    "mask = np.zeros_like(corr, dtype=np.bool)\n",
    "mask[np.triu_indices_from(mask)] = True\n",
    "\n",
    "plt.figure(figsize=(20,15))\n",
    "sns.heatmap(corr, cmap='RdBu',  mask=mask, center=0, linewidths= 0.1)\n",
    "plt.show()"
   ]
  },
  {
   "cell_type": "code",
   "execution_count": null,
   "metadata": {},
   "outputs": [],
   "source": [
    "#Check correlation with heatmap\n",
    "#Display data with high corelation only \n",
    "corr = round(housingDF.corr().applymap(lambda x : 0 if x > -0.5 and x < 0.5 else x ), 1)\n",
    "mask = np.zeros_like(corr, dtype=np.bool)\n",
    "mask[np.triu_indices_from(mask)] = True\n",
    "\n",
    "plt.figure(figsize=(20,15))\n",
    "sns.heatmap(corr, cmap='RdBu', annot=True, mask=mask, center=0, linewidths= 0.1, )\n",
    "plt.show()"
   ]
  },
  {
   "cell_type": "code",
   "execution_count": null,
   "metadata": {
    "collapsed": true
   },
   "outputs": [],
   "source": []
  },
  {
   "cell_type": "markdown",
   "metadata": {},
   "source": [
    "### Qualitative Variable Univariate & Bivariate Analysis"
   ]
  },
  {
   "cell_type": "code",
   "execution_count": null,
   "metadata": {},
   "outputs": [],
   "source": [
    "corr = housingDF.corr()"
   ]
  },
  {
   "cell_type": "code",
   "execution_count": null,
   "metadata": {
    "collapsed": true
   },
   "outputs": [],
   "source": []
  }
 ],
 "metadata": {
  "kernelspec": {
   "display_name": "Python 3",
   "language": "python",
   "name": "python3"
  },
  "language_info": {
   "codemirror_mode": {
    "name": "ipython",
    "version": 3
   },
   "file_extension": ".py",
   "mimetype": "text/x-python",
   "name": "python",
   "nbconvert_exporter": "python",
   "pygments_lexer": "ipython3",
   "version": "3.6.7"
  }
 },
 "nbformat": 4,
 "nbformat_minor": 2
}
